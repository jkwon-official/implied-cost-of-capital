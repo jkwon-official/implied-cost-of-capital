{
 "cells": [
  {
   "cell_type": "code",
   "execution_count": 1,
   "id": "9b8b4131",
   "metadata": {},
   "outputs": [],
   "source": [
    "import pandas as pd\n",
    "import os\n",
    "import numpy as np\n",
    "\n",
    "root = '/Users/jingookwon/Library/CloudStorage/OneDrive-Personal/Documents/GitHub/ICC/implied-cost-of-capital'\n"
   ]
  },
  {
   "cell_type": "code",
   "execution_count": 2,
   "id": "edbc3d3e",
   "metadata": {},
   "outputs": [],
   "source": [
    "df = pd.read_csv(os.path.join(root, 'WRDS-DATA', 'icc_us.csv'))"
   ]
  },
  {
   "cell_type": "code",
   "execution_count": 3,
   "id": "485f44a6",
   "metadata": {},
   "outputs": [
    {
     "data": {
      "application/vnd.microsoft.datawrangler.viewer.v0+json": {
       "columns": [
        {
         "name": "index",
         "rawType": "int64",
         "type": "integer"
        },
        {
         "name": "id",
         "rawType": "int64",
         "type": "integer"
        },
        {
         "name": "datadate",
         "rawType": "object",
         "type": "string"
        },
        {
         "name": "icc_ct",
         "rawType": "float64",
         "type": "float"
        },
        {
         "name": "icc_gls",
         "rawType": "float64",
         "type": "float"
        },
        {
         "name": "icc_peg",
         "rawType": "float64",
         "type": "float"
        },
        {
         "name": "icc_oj",
         "rawType": "float64",
         "type": "float"
        },
        {
         "name": "numest1_avg",
         "rawType": "float64",
         "type": "float"
        }
       ],
       "ref": "212f6b53-6c4d-42bd-b9ee-715b449c735d",
       "rows": [
        [
         "0",
         "10001",
         "1989-03-16",
         null,
         "0.104740784194812",
         null,
         null,
         null
        ],
        [
         "1",
         "10001",
         "1989-04-20",
         null,
         "0.100165335635152",
         null,
         null,
         null
        ],
        [
         "2",
         "10001",
         "1989-05-18",
         null,
         "0.103507678320504",
         null,
         null,
         null
        ],
        [
         "3",
         "10001",
         "1989-06-15",
         null,
         "0.101951742522419",
         null,
         null,
         null
        ],
        [
         "4",
         "10001",
         "1989-07-20",
         null,
         "0.103507678320504",
         null,
         null,
         null
        ]
       ],
       "shape": {
        "columns": 7,
        "rows": 5
       }
      },
      "text/html": [
       "<div>\n",
       "<style scoped>\n",
       "    .dataframe tbody tr th:only-of-type {\n",
       "        vertical-align: middle;\n",
       "    }\n",
       "\n",
       "    .dataframe tbody tr th {\n",
       "        vertical-align: top;\n",
       "    }\n",
       "\n",
       "    .dataframe thead th {\n",
       "        text-align: right;\n",
       "    }\n",
       "</style>\n",
       "<table border=\"1\" class=\"dataframe\">\n",
       "  <thead>\n",
       "    <tr style=\"text-align: right;\">\n",
       "      <th></th>\n",
       "      <th>id</th>\n",
       "      <th>datadate</th>\n",
       "      <th>icc_ct</th>\n",
       "      <th>icc_gls</th>\n",
       "      <th>icc_peg</th>\n",
       "      <th>icc_oj</th>\n",
       "      <th>numest1_avg</th>\n",
       "    </tr>\n",
       "  </thead>\n",
       "  <tbody>\n",
       "    <tr>\n",
       "      <th>0</th>\n",
       "      <td>10001</td>\n",
       "      <td>1989-03-16</td>\n",
       "      <td>NaN</td>\n",
       "      <td>0.104741</td>\n",
       "      <td>NaN</td>\n",
       "      <td>NaN</td>\n",
       "      <td>NaN</td>\n",
       "    </tr>\n",
       "    <tr>\n",
       "      <th>1</th>\n",
       "      <td>10001</td>\n",
       "      <td>1989-04-20</td>\n",
       "      <td>NaN</td>\n",
       "      <td>0.100165</td>\n",
       "      <td>NaN</td>\n",
       "      <td>NaN</td>\n",
       "      <td>NaN</td>\n",
       "    </tr>\n",
       "    <tr>\n",
       "      <th>2</th>\n",
       "      <td>10001</td>\n",
       "      <td>1989-05-18</td>\n",
       "      <td>NaN</td>\n",
       "      <td>0.103508</td>\n",
       "      <td>NaN</td>\n",
       "      <td>NaN</td>\n",
       "      <td>NaN</td>\n",
       "    </tr>\n",
       "    <tr>\n",
       "      <th>3</th>\n",
       "      <td>10001</td>\n",
       "      <td>1989-06-15</td>\n",
       "      <td>NaN</td>\n",
       "      <td>0.101952</td>\n",
       "      <td>NaN</td>\n",
       "      <td>NaN</td>\n",
       "      <td>NaN</td>\n",
       "    </tr>\n",
       "    <tr>\n",
       "      <th>4</th>\n",
       "      <td>10001</td>\n",
       "      <td>1989-07-20</td>\n",
       "      <td>NaN</td>\n",
       "      <td>0.103508</td>\n",
       "      <td>NaN</td>\n",
       "      <td>NaN</td>\n",
       "      <td>NaN</td>\n",
       "    </tr>\n",
       "  </tbody>\n",
       "</table>\n",
       "</div>"
      ],
      "text/plain": [
       "      id    datadate  icc_ct   icc_gls  icc_peg  icc_oj  numest1_avg\n",
       "0  10001  1989-03-16     NaN  0.104741      NaN     NaN          NaN\n",
       "1  10001  1989-04-20     NaN  0.100165      NaN     NaN          NaN\n",
       "2  10001  1989-05-18     NaN  0.103508      NaN     NaN          NaN\n",
       "3  10001  1989-06-15     NaN  0.101952      NaN     NaN          NaN\n",
       "4  10001  1989-07-20     NaN  0.103508      NaN     NaN          NaN"
      ]
     },
     "execution_count": 3,
     "metadata": {},
     "output_type": "execute_result"
    }
   ],
   "source": [
    "df.head()"
   ]
  },
  {
   "cell_type": "code",
   "execution_count": 4,
   "id": "82b56c9a",
   "metadata": {},
   "outputs": [
    {
     "data": {
      "text/plain": [
       "17887"
      ]
     },
     "execution_count": 4,
     "metadata": {},
     "output_type": "execute_result"
    }
   ],
   "source": [
    "df['id'].nunique()"
   ]
  },
  {
   "cell_type": "code",
   "execution_count": 5,
   "id": "91925457",
   "metadata": {},
   "outputs": [
    {
     "data": {
      "text/plain": [
       "2"
      ]
     },
     "execution_count": 5,
     "metadata": {},
     "output_type": "execute_result"
    }
   ],
   "source": [
    "df['id'].astype(str).str.startswith('2').nunique()"
   ]
  },
  {
   "cell_type": "code",
   "execution_count": 6,
   "id": "72a51403",
   "metadata": {},
   "outputs": [
    {
     "data": {
      "text/plain": [
       "0"
      ]
     },
     "execution_count": 6,
     "metadata": {},
     "output_type": "execute_result"
    }
   ],
   "source": [
    "df[df['id'].astype(str).str.len() > 5]['id'].nunique()"
   ]
  },
  {
   "cell_type": "code",
   "execution_count": 7,
   "id": "3b6112b2",
   "metadata": {},
   "outputs": [
    {
     "data": {
      "application/vnd.microsoft.datawrangler.viewer.v0+json": {
       "columns": [
        {
         "name": "index",
         "rawType": "object",
         "type": "string"
        },
        {
         "name": "0",
         "rawType": "object",
         "type": "unknown"
        }
       ],
       "ref": "23bf7856-210b-4746-9ac8-6c7c7cb60205",
       "rows": [
        [
         "id",
         "int64"
        ],
        [
         "datadate",
         "object"
        ],
        [
         "icc_ct",
         "float64"
        ],
        [
         "icc_gls",
         "float64"
        ],
        [
         "icc_peg",
         "float64"
        ],
        [
         "icc_oj",
         "float64"
        ],
        [
         "numest1_avg",
         "float64"
        ]
       ],
       "shape": {
        "columns": 1,
        "rows": 7
       }
      },
      "text/plain": [
       "id               int64\n",
       "datadate        object\n",
       "icc_ct         float64\n",
       "icc_gls        float64\n",
       "icc_peg        float64\n",
       "icc_oj         float64\n",
       "numest1_avg    float64\n",
       "dtype: object"
      ]
     },
     "execution_count": 7,
     "metadata": {},
     "output_type": "execute_result"
    }
   ],
   "source": [
    "df.dtypes"
   ]
  },
  {
   "cell_type": "code",
   "execution_count": 8,
   "id": "75cd74fe",
   "metadata": {},
   "outputs": [],
   "source": [
    "df['datadate'] = pd.to_datetime(df['datadate'], errors='coerce')"
   ]
  },
  {
   "cell_type": "code",
   "execution_count": 10,
   "id": "71e9f34a",
   "metadata": {},
   "outputs": [
    {
     "data": {
      "application/vnd.microsoft.datawrangler.viewer.v0+json": {
       "columns": [
        {
         "name": "index",
         "rawType": "object",
         "type": "string"
        },
        {
         "name": "datadate",
         "rawType": "object",
         "type": "unknown"
        }
       ],
       "ref": "9bce821f-79c0-4e11-b284-02b420c8e241",
       "rows": [
        [
         "count",
         "1813362"
        ],
        [
         "mean",
         "2003-03-15 02:45:15.386778880"
        ],
        [
         "min",
         "1976-06-17 00:00:00"
        ],
        [
         "25%",
         "1994-01-20 00:00:00"
        ],
        [
         "50%",
         "2002-12-19 00:00:00"
        ],
        [
         "75%",
         "2013-05-16 00:00:00"
        ],
        [
         "max",
         "2024-12-19 00:00:00"
        ]
       ],
       "shape": {
        "columns": 1,
        "rows": 7
       }
      },
      "text/plain": [
       "count                          1813362\n",
       "mean     2003-03-15 02:45:15.386778880\n",
       "min                1976-06-17 00:00:00\n",
       "25%                1994-01-20 00:00:00\n",
       "50%                2002-12-19 00:00:00\n",
       "75%                2013-05-16 00:00:00\n",
       "max                2024-12-19 00:00:00\n",
       "Name: datadate, dtype: object"
      ]
     },
     "execution_count": 10,
     "metadata": {},
     "output_type": "execute_result"
    }
   ],
   "source": [
    "df['datadate'].describe()"
   ]
  },
  {
   "cell_type": "code",
   "execution_count": 11,
   "id": "60d6733d",
   "metadata": {},
   "outputs": [
    {
     "data": {
      "application/vnd.microsoft.datawrangler.viewer.v0+json": {
       "columns": [
        {
         "name": "index",
         "rawType": "int64",
         "type": "integer"
        },
        {
         "name": "id",
         "rawType": "int64",
         "type": "integer"
        },
        {
         "name": "datadate",
         "rawType": "datetime64[ns]",
         "type": "datetime"
        },
        {
         "name": "icc_ct",
         "rawType": "float64",
         "type": "float"
        },
        {
         "name": "icc_gls",
         "rawType": "float64",
         "type": "float"
        },
        {
         "name": "icc_peg",
         "rawType": "float64",
         "type": "float"
        },
        {
         "name": "icc_oj",
         "rawType": "float64",
         "type": "float"
        },
        {
         "name": "numest1_avg",
         "rawType": "float64",
         "type": "float"
        }
       ],
       "ref": "d34bf912-ccaa-49ee-bb84-6d4367459475",
       "rows": [
        [
         "0",
         "10001",
         "1989-03-16 00:00:00",
         null,
         "0.104740784194812",
         null,
         null,
         null
        ],
        [
         "1",
         "10001",
         "1989-04-20 00:00:00",
         null,
         "0.100165335635152",
         null,
         null,
         null
        ],
        [
         "2",
         "10001",
         "1989-05-18 00:00:00",
         null,
         "0.103507678320504",
         null,
         null,
         null
        ],
        [
         "3",
         "10001",
         "1989-06-15 00:00:00",
         null,
         "0.101951742522419",
         null,
         null,
         null
        ],
        [
         "4",
         "10001",
         "1989-07-20 00:00:00",
         null,
         "0.103507678320504",
         null,
         null,
         null
        ]
       ],
       "shape": {
        "columns": 7,
        "rows": 5
       }
      },
      "text/html": [
       "<div>\n",
       "<style scoped>\n",
       "    .dataframe tbody tr th:only-of-type {\n",
       "        vertical-align: middle;\n",
       "    }\n",
       "\n",
       "    .dataframe tbody tr th {\n",
       "        vertical-align: top;\n",
       "    }\n",
       "\n",
       "    .dataframe thead th {\n",
       "        text-align: right;\n",
       "    }\n",
       "</style>\n",
       "<table border=\"1\" class=\"dataframe\">\n",
       "  <thead>\n",
       "    <tr style=\"text-align: right;\">\n",
       "      <th></th>\n",
       "      <th>id</th>\n",
       "      <th>datadate</th>\n",
       "      <th>icc_ct</th>\n",
       "      <th>icc_gls</th>\n",
       "      <th>icc_peg</th>\n",
       "      <th>icc_oj</th>\n",
       "      <th>numest1_avg</th>\n",
       "    </tr>\n",
       "  </thead>\n",
       "  <tbody>\n",
       "    <tr>\n",
       "      <th>0</th>\n",
       "      <td>10001</td>\n",
       "      <td>1989-03-16</td>\n",
       "      <td>NaN</td>\n",
       "      <td>0.104741</td>\n",
       "      <td>NaN</td>\n",
       "      <td>NaN</td>\n",
       "      <td>NaN</td>\n",
       "    </tr>\n",
       "    <tr>\n",
       "      <th>1</th>\n",
       "      <td>10001</td>\n",
       "      <td>1989-04-20</td>\n",
       "      <td>NaN</td>\n",
       "      <td>0.100165</td>\n",
       "      <td>NaN</td>\n",
       "      <td>NaN</td>\n",
       "      <td>NaN</td>\n",
       "    </tr>\n",
       "    <tr>\n",
       "      <th>2</th>\n",
       "      <td>10001</td>\n",
       "      <td>1989-05-18</td>\n",
       "      <td>NaN</td>\n",
       "      <td>0.103508</td>\n",
       "      <td>NaN</td>\n",
       "      <td>NaN</td>\n",
       "      <td>NaN</td>\n",
       "    </tr>\n",
       "    <tr>\n",
       "      <th>3</th>\n",
       "      <td>10001</td>\n",
       "      <td>1989-06-15</td>\n",
       "      <td>NaN</td>\n",
       "      <td>0.101952</td>\n",
       "      <td>NaN</td>\n",
       "      <td>NaN</td>\n",
       "      <td>NaN</td>\n",
       "    </tr>\n",
       "    <tr>\n",
       "      <th>4</th>\n",
       "      <td>10001</td>\n",
       "      <td>1989-07-20</td>\n",
       "      <td>NaN</td>\n",
       "      <td>0.103508</td>\n",
       "      <td>NaN</td>\n",
       "      <td>NaN</td>\n",
       "      <td>NaN</td>\n",
       "    </tr>\n",
       "  </tbody>\n",
       "</table>\n",
       "</div>"
      ],
      "text/plain": [
       "      id   datadate  icc_ct   icc_gls  icc_peg  icc_oj  numest1_avg\n",
       "0  10001 1989-03-16     NaN  0.104741      NaN     NaN          NaN\n",
       "1  10001 1989-04-20     NaN  0.100165      NaN     NaN          NaN\n",
       "2  10001 1989-05-18     NaN  0.103508      NaN     NaN          NaN\n",
       "3  10001 1989-06-15     NaN  0.101952      NaN     NaN          NaN\n",
       "4  10001 1989-07-20     NaN  0.103508      NaN     NaN          NaN"
      ]
     },
     "execution_count": 11,
     "metadata": {},
     "output_type": "execute_result"
    }
   ],
   "source": [
    "df.head()"
   ]
  },
  {
   "cell_type": "code",
   "execution_count": 12,
   "id": "44db2fcb",
   "metadata": {},
   "outputs": [],
   "source": [
    "df_check = df.dropna()"
   ]
  },
  {
   "cell_type": "code",
   "execution_count": 13,
   "id": "da6b9ba5",
   "metadata": {},
   "outputs": [
    {
     "data": {
      "application/vnd.microsoft.datawrangler.viewer.v0+json": {
       "columns": [
        {
         "name": "index",
         "rawType": "int64",
         "type": "integer"
        },
        {
         "name": "id",
         "rawType": "int64",
         "type": "integer"
        },
        {
         "name": "datadate",
         "rawType": "datetime64[ns]",
         "type": "datetime"
        },
        {
         "name": "icc_ct",
         "rawType": "float64",
         "type": "float"
        },
        {
         "name": "icc_gls",
         "rawType": "float64",
         "type": "float"
        },
        {
         "name": "icc_peg",
         "rawType": "float64",
         "type": "float"
        },
        {
         "name": "icc_oj",
         "rawType": "float64",
         "type": "float"
        },
        {
         "name": "numest1_avg",
         "rawType": "float64",
         "type": "float"
        }
       ],
       "ref": "617deb19-4d4a-4a19-ad29-2168de21acd2",
       "rows": [
        [
         "62",
         "10001",
         "1994-07-14 00:00:00",
         "0.096872623159259",
         "0.0743076524381816",
         "0.0817255318106301",
         "0.112581488707764",
         "2.0"
        ],
        [
         "63",
         "10001",
         "1994-08-18 00:00:00",
         "0.0950476203000773",
         "0.0735251248732321",
         "0.078294773749365",
         "0.108727502988188",
         "2.0"
        ],
        [
         "64",
         "10001",
         "1994-09-15 00:00:00",
         "0.0876207617395781",
         "0.0727551843456295",
         "0.0655681935019458",
         "0.0942841829598099",
         "2.0"
        ],
        [
         "65",
         "10001",
         "1994-10-20 00:00:00",
         "0.090264511295997",
         "0.0735251248732321",
         "0.0660219580407964",
         "0.096189638242196",
         "2.0"
        ],
        [
         "66",
         "10001",
         "1994-11-17 00:00:00",
         "0.0905582900177268",
         "0.0717187302356316",
         "0.0651236582509423",
         "0.099903299592504",
         "2.0"
        ]
       ],
       "shape": {
        "columns": 7,
        "rows": 5
       }
      },
      "text/html": [
       "<div>\n",
       "<style scoped>\n",
       "    .dataframe tbody tr th:only-of-type {\n",
       "        vertical-align: middle;\n",
       "    }\n",
       "\n",
       "    .dataframe tbody tr th {\n",
       "        vertical-align: top;\n",
       "    }\n",
       "\n",
       "    .dataframe thead th {\n",
       "        text-align: right;\n",
       "    }\n",
       "</style>\n",
       "<table border=\"1\" class=\"dataframe\">\n",
       "  <thead>\n",
       "    <tr style=\"text-align: right;\">\n",
       "      <th></th>\n",
       "      <th>id</th>\n",
       "      <th>datadate</th>\n",
       "      <th>icc_ct</th>\n",
       "      <th>icc_gls</th>\n",
       "      <th>icc_peg</th>\n",
       "      <th>icc_oj</th>\n",
       "      <th>numest1_avg</th>\n",
       "    </tr>\n",
       "  </thead>\n",
       "  <tbody>\n",
       "    <tr>\n",
       "      <th>62</th>\n",
       "      <td>10001</td>\n",
       "      <td>1994-07-14</td>\n",
       "      <td>0.096873</td>\n",
       "      <td>0.074308</td>\n",
       "      <td>0.081726</td>\n",
       "      <td>0.112581</td>\n",
       "      <td>2.0</td>\n",
       "    </tr>\n",
       "    <tr>\n",
       "      <th>63</th>\n",
       "      <td>10001</td>\n",
       "      <td>1994-08-18</td>\n",
       "      <td>0.095048</td>\n",
       "      <td>0.073525</td>\n",
       "      <td>0.078295</td>\n",
       "      <td>0.108728</td>\n",
       "      <td>2.0</td>\n",
       "    </tr>\n",
       "    <tr>\n",
       "      <th>64</th>\n",
       "      <td>10001</td>\n",
       "      <td>1994-09-15</td>\n",
       "      <td>0.087621</td>\n",
       "      <td>0.072755</td>\n",
       "      <td>0.065568</td>\n",
       "      <td>0.094284</td>\n",
       "      <td>2.0</td>\n",
       "    </tr>\n",
       "    <tr>\n",
       "      <th>65</th>\n",
       "      <td>10001</td>\n",
       "      <td>1994-10-20</td>\n",
       "      <td>0.090265</td>\n",
       "      <td>0.073525</td>\n",
       "      <td>0.066022</td>\n",
       "      <td>0.096190</td>\n",
       "      <td>2.0</td>\n",
       "    </tr>\n",
       "    <tr>\n",
       "      <th>66</th>\n",
       "      <td>10001</td>\n",
       "      <td>1994-11-17</td>\n",
       "      <td>0.090558</td>\n",
       "      <td>0.071719</td>\n",
       "      <td>0.065124</td>\n",
       "      <td>0.099903</td>\n",
       "      <td>2.0</td>\n",
       "    </tr>\n",
       "  </tbody>\n",
       "</table>\n",
       "</div>"
      ],
      "text/plain": [
       "       id   datadate    icc_ct   icc_gls   icc_peg    icc_oj  numest1_avg\n",
       "62  10001 1994-07-14  0.096873  0.074308  0.081726  0.112581          2.0\n",
       "63  10001 1994-08-18  0.095048  0.073525  0.078295  0.108728          2.0\n",
       "64  10001 1994-09-15  0.087621  0.072755  0.065568  0.094284          2.0\n",
       "65  10001 1994-10-20  0.090265  0.073525  0.066022  0.096190          2.0\n",
       "66  10001 1994-11-17  0.090558  0.071719  0.065124  0.099903          2.0"
      ]
     },
     "execution_count": 13,
     "metadata": {},
     "output_type": "execute_result"
    }
   ],
   "source": [
    "df_check.head()"
   ]
  },
  {
   "cell_type": "code",
   "execution_count": 14,
   "id": "ca4a338e",
   "metadata": {},
   "outputs": [],
   "source": [
    "df_check = df_check.sort_values(['datadate','id'])"
   ]
  },
  {
   "cell_type": "code",
   "execution_count": 15,
   "id": "8e95cb7a",
   "metadata": {},
   "outputs": [
    {
     "data": {
      "application/vnd.microsoft.datawrangler.viewer.v0+json": {
       "columns": [
        {
         "name": "index",
         "rawType": "int64",
         "type": "integer"
        },
        {
         "name": "id",
         "rawType": "int64",
         "type": "integer"
        },
        {
         "name": "datadate",
         "rawType": "datetime64[ns]",
         "type": "datetime"
        },
        {
         "name": "icc_ct",
         "rawType": "float64",
         "type": "float"
        },
        {
         "name": "icc_gls",
         "rawType": "float64",
         "type": "float"
        },
        {
         "name": "icc_peg",
         "rawType": "float64",
         "type": "float"
        },
        {
         "name": "icc_oj",
         "rawType": "float64",
         "type": "float"
        },
        {
         "name": "numest1_avg",
         "rawType": "float64",
         "type": "float"
        }
       ],
       "ref": "706ac198-a0dd-4657-9861-ac68cc95aa56",
       "rows": [
        [
         "7120",
         "10137",
         "1981-12-17 00:00:00",
         "0.140170647276976",
         "0.156410556003503",
         "0.0835710894037345",
         "0.165787767644591",
         "16.0833333333333"
        ],
        [
         "12814",
         "10225",
         "1981-12-17 00:00:00",
         "0.186759618456419",
         "0.156360339652716",
         "0.15334710168179",
         "0.195635051328507",
         "8.25"
        ],
        [
         "23141",
         "10401",
         "1981-12-17 00:00:00",
         "0.155200198414246",
         "0.155507679536054",
         "0.11149020567995",
         "0.180013701177985",
         "19.8333333333333"
        ],
        [
         "27013",
         "10487",
         "1981-12-17 00:00:00",
         "0.154426483572456",
         "0.126710139414157",
         "0.148635887612786",
         "0.19797302126776",
         "9.16666666666667"
        ],
        [
         "28378",
         "10516",
         "1981-12-17 00:00:00",
         "0.164363601240991",
         "0.145605624144195",
         "0.156124633149575",
         "0.164047114301113",
         "14.25"
        ]
       ],
       "shape": {
        "columns": 7,
        "rows": 5
       }
      },
      "text/html": [
       "<div>\n",
       "<style scoped>\n",
       "    .dataframe tbody tr th:only-of-type {\n",
       "        vertical-align: middle;\n",
       "    }\n",
       "\n",
       "    .dataframe tbody tr th {\n",
       "        vertical-align: top;\n",
       "    }\n",
       "\n",
       "    .dataframe thead th {\n",
       "        text-align: right;\n",
       "    }\n",
       "</style>\n",
       "<table border=\"1\" class=\"dataframe\">\n",
       "  <thead>\n",
       "    <tr style=\"text-align: right;\">\n",
       "      <th></th>\n",
       "      <th>id</th>\n",
       "      <th>datadate</th>\n",
       "      <th>icc_ct</th>\n",
       "      <th>icc_gls</th>\n",
       "      <th>icc_peg</th>\n",
       "      <th>icc_oj</th>\n",
       "      <th>numest1_avg</th>\n",
       "    </tr>\n",
       "  </thead>\n",
       "  <tbody>\n",
       "    <tr>\n",
       "      <th>7120</th>\n",
       "      <td>10137</td>\n",
       "      <td>1981-12-17</td>\n",
       "      <td>0.140171</td>\n",
       "      <td>0.156411</td>\n",
       "      <td>0.083571</td>\n",
       "      <td>0.165788</td>\n",
       "      <td>16.083333</td>\n",
       "    </tr>\n",
       "    <tr>\n",
       "      <th>12814</th>\n",
       "      <td>10225</td>\n",
       "      <td>1981-12-17</td>\n",
       "      <td>0.186760</td>\n",
       "      <td>0.156360</td>\n",
       "      <td>0.153347</td>\n",
       "      <td>0.195635</td>\n",
       "      <td>8.250000</td>\n",
       "    </tr>\n",
       "    <tr>\n",
       "      <th>23141</th>\n",
       "      <td>10401</td>\n",
       "      <td>1981-12-17</td>\n",
       "      <td>0.155200</td>\n",
       "      <td>0.155508</td>\n",
       "      <td>0.111490</td>\n",
       "      <td>0.180014</td>\n",
       "      <td>19.833333</td>\n",
       "    </tr>\n",
       "    <tr>\n",
       "      <th>27013</th>\n",
       "      <td>10487</td>\n",
       "      <td>1981-12-17</td>\n",
       "      <td>0.154426</td>\n",
       "      <td>0.126710</td>\n",
       "      <td>0.148636</td>\n",
       "      <td>0.197973</td>\n",
       "      <td>9.166667</td>\n",
       "    </tr>\n",
       "    <tr>\n",
       "      <th>28378</th>\n",
       "      <td>10516</td>\n",
       "      <td>1981-12-17</td>\n",
       "      <td>0.164364</td>\n",
       "      <td>0.145606</td>\n",
       "      <td>0.156125</td>\n",
       "      <td>0.164047</td>\n",
       "      <td>14.250000</td>\n",
       "    </tr>\n",
       "  </tbody>\n",
       "</table>\n",
       "</div>"
      ],
      "text/plain": [
       "          id   datadate    icc_ct   icc_gls   icc_peg    icc_oj  numest1_avg\n",
       "7120   10137 1981-12-17  0.140171  0.156411  0.083571  0.165788    16.083333\n",
       "12814  10225 1981-12-17  0.186760  0.156360  0.153347  0.195635     8.250000\n",
       "23141  10401 1981-12-17  0.155200  0.155508  0.111490  0.180014    19.833333\n",
       "27013  10487 1981-12-17  0.154426  0.126710  0.148636  0.197973     9.166667\n",
       "28378  10516 1981-12-17  0.164364  0.145606  0.156125  0.164047    14.250000"
      ]
     },
     "execution_count": 15,
     "metadata": {},
     "output_type": "execute_result"
    }
   ],
   "source": [
    "df_check.head()"
   ]
  },
  {
   "cell_type": "code",
   "execution_count": 16,
   "id": "5f6ce846",
   "metadata": {},
   "outputs": [],
   "source": [
    "df = df.sort_values(['datadate','id'])"
   ]
  },
  {
   "cell_type": "code",
   "execution_count": 17,
   "id": "d75130b4",
   "metadata": {},
   "outputs": [
    {
     "data": {
      "application/vnd.microsoft.datawrangler.viewer.v0+json": {
       "columns": [
        {
         "name": "index",
         "rawType": "int64",
         "type": "integer"
        },
        {
         "name": "id",
         "rawType": "int64",
         "type": "integer"
        },
        {
         "name": "datadate",
         "rawType": "datetime64[ns]",
         "type": "datetime"
        },
        {
         "name": "icc_ct",
         "rawType": "float64",
         "type": "float"
        },
        {
         "name": "icc_gls",
         "rawType": "float64",
         "type": "float"
        },
        {
         "name": "icc_peg",
         "rawType": "float64",
         "type": "float"
        },
        {
         "name": "icc_oj",
         "rawType": "float64",
         "type": "float"
        },
        {
         "name": "numest1_avg",
         "rawType": "float64",
         "type": "float"
        }
       ],
       "ref": "1229e20f-016a-48e1-8dbc-6ebb3669e7cd",
       "rows": [
        [
         "30738",
         "10559",
         "1976-06-17 00:00:00",
         null,
         "0.128201495216357",
         null,
         null,
         null
        ],
        [
         "129104",
         "12626",
         "1976-06-17 00:00:00",
         null,
         "0.150136623149259",
         null,
         null,
         null
        ],
        [
         "140551",
         "13100",
         "1976-06-17 00:00:00",
         null,
         "0.114618804438213",
         null,
         null,
         null
        ],
        [
         "169934",
         "13936",
         "1976-06-17 00:00:00",
         null,
         "0.186472944287924",
         null,
         null,
         null
        ],
        [
         "184503",
         "14322",
         "1976-06-17 00:00:00",
         null,
         "0.0836180274099618",
         null,
         null,
         null
        ]
       ],
       "shape": {
        "columns": 7,
        "rows": 5
       }
      },
      "text/html": [
       "<div>\n",
       "<style scoped>\n",
       "    .dataframe tbody tr th:only-of-type {\n",
       "        vertical-align: middle;\n",
       "    }\n",
       "\n",
       "    .dataframe tbody tr th {\n",
       "        vertical-align: top;\n",
       "    }\n",
       "\n",
       "    .dataframe thead th {\n",
       "        text-align: right;\n",
       "    }\n",
       "</style>\n",
       "<table border=\"1\" class=\"dataframe\">\n",
       "  <thead>\n",
       "    <tr style=\"text-align: right;\">\n",
       "      <th></th>\n",
       "      <th>id</th>\n",
       "      <th>datadate</th>\n",
       "      <th>icc_ct</th>\n",
       "      <th>icc_gls</th>\n",
       "      <th>icc_peg</th>\n",
       "      <th>icc_oj</th>\n",
       "      <th>numest1_avg</th>\n",
       "    </tr>\n",
       "  </thead>\n",
       "  <tbody>\n",
       "    <tr>\n",
       "      <th>30738</th>\n",
       "      <td>10559</td>\n",
       "      <td>1976-06-17</td>\n",
       "      <td>NaN</td>\n",
       "      <td>0.128201</td>\n",
       "      <td>NaN</td>\n",
       "      <td>NaN</td>\n",
       "      <td>NaN</td>\n",
       "    </tr>\n",
       "    <tr>\n",
       "      <th>129104</th>\n",
       "      <td>12626</td>\n",
       "      <td>1976-06-17</td>\n",
       "      <td>NaN</td>\n",
       "      <td>0.150137</td>\n",
       "      <td>NaN</td>\n",
       "      <td>NaN</td>\n",
       "      <td>NaN</td>\n",
       "    </tr>\n",
       "    <tr>\n",
       "      <th>140551</th>\n",
       "      <td>13100</td>\n",
       "      <td>1976-06-17</td>\n",
       "      <td>NaN</td>\n",
       "      <td>0.114619</td>\n",
       "      <td>NaN</td>\n",
       "      <td>NaN</td>\n",
       "      <td>NaN</td>\n",
       "    </tr>\n",
       "    <tr>\n",
       "      <th>169934</th>\n",
       "      <td>13936</td>\n",
       "      <td>1976-06-17</td>\n",
       "      <td>NaN</td>\n",
       "      <td>0.186473</td>\n",
       "      <td>NaN</td>\n",
       "      <td>NaN</td>\n",
       "      <td>NaN</td>\n",
       "    </tr>\n",
       "    <tr>\n",
       "      <th>184503</th>\n",
       "      <td>14322</td>\n",
       "      <td>1976-06-17</td>\n",
       "      <td>NaN</td>\n",
       "      <td>0.083618</td>\n",
       "      <td>NaN</td>\n",
       "      <td>NaN</td>\n",
       "      <td>NaN</td>\n",
       "    </tr>\n",
       "  </tbody>\n",
       "</table>\n",
       "</div>"
      ],
      "text/plain": [
       "           id   datadate  icc_ct   icc_gls  icc_peg  icc_oj  numest1_avg\n",
       "30738   10559 1976-06-17     NaN  0.128201      NaN     NaN          NaN\n",
       "129104  12626 1976-06-17     NaN  0.150137      NaN     NaN          NaN\n",
       "140551  13100 1976-06-17     NaN  0.114619      NaN     NaN          NaN\n",
       "169934  13936 1976-06-17     NaN  0.186473      NaN     NaN          NaN\n",
       "184503  14322 1976-06-17     NaN  0.083618      NaN     NaN          NaN"
      ]
     },
     "execution_count": 17,
     "metadata": {},
     "output_type": "execute_result"
    }
   ],
   "source": [
    "df.head()"
   ]
  },
  {
   "cell_type": "code",
   "execution_count": null,
   "id": "951b595a",
   "metadata": {},
   "outputs": [],
   "source": []
  }
 ],
 "metadata": {
  "kernelspec": {
   "display_name": "Python 3",
   "language": "python",
   "name": "python3"
  },
  "language_info": {
   "codemirror_mode": {
    "name": "ipython",
    "version": 3
   },
   "file_extension": ".py",
   "mimetype": "text/x-python",
   "name": "python",
   "nbconvert_exporter": "python",
   "pygments_lexer": "ipython3",
   "version": "3.11.4"
  }
 },
 "nbformat": 4,
 "nbformat_minor": 5
}
